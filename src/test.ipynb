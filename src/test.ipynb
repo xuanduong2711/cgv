{
 "cells": [
  {
   "cell_type": "code",
   "execution_count": 109,
   "id": "349f655c",
   "metadata": {},
   "outputs": [],
   "source": [
    "from pyspark.sql import SparkSession\n",
    "from pyspark.sql.types import *\n",
    "from datetime import datetime\n",
    "from pyspark.sql.functions import col,  udf, explode\n",
    "import re\n",
    "\n",
    "import random\n",
    "import zipfile\n"
   ]
  },
  {
   "cell_type": "code",
   "execution_count": 110,
   "id": "97abad82",
   "metadata": {},
   "outputs": [],
   "source": [
    "spark = SparkSession.builder \\\n",
    "    .appName(\"data cgv\") \\\n",
    "    .master(\"local[*]\") \\\n",
    "    .config(\"spark.executor.memory\", \"4g\")\\\n",
    "    .getOrCreate()\n"
   ]
  },
  {
   "cell_type": "code",
   "execution_count": 111,
   "id": "dfb2e80e",
   "metadata": {},
   "outputs": [],
   "source": [
    "schema_type = StructType([\n",
    "    StructField(\"theater\", StringType(), True),\n",
    "    StructField(\"name_movie\", StringType(), True),\n",
    "    StructField(\"date\", StringType(), True), \n",
    "    StructField(\"times\", ArrayType(StringType()), True)\n",
    "])"
   ]
  },
  {
   "cell_type": "code",
   "execution_count": 112,
   "id": "3d160ee3",
   "metadata": {},
   "outputs": [
    {
     "name": "stdout",
     "output_type": "stream",
     "text": [
      "+--------------------+--------------------+-----------+--------------------+\n",
      "|             theater|          name_movie|       date|               times|\n",
      "+--------------------+--------------------+-----------+--------------------+\n",
      "|CGV Hung Vuong Plaza|TỬ CHIẾN TRÊN KHÔ...|09\\nWed\\n24|[19:20\\n20:10\\n20...|\n",
      "|CGV Hung Vuong Plaza|          MƯA ĐỎ T13|09\\nWed\\n24|      [20:20\\n22:50]|\n",
      "|CGV Hung Vuong Plaza|THE CONJURING: LA...|09\\nWed\\n24|[19:40\\n22:30, 21...|\n",
      "|CGV Hung Vuong Plaza|TỬ CHIẾN TRÊN KHÔ...|09\\nThu\\n25|[08:10\\n09:00\\n09...|\n",
      "|CGV Hung Vuong Plaza|CHAINSAW MAN - TH...|09\\nThu\\n25|             [18:00]|\n",
      "|CGV Hung Vuong Plaza|          MƯA ĐỎ T13|09\\nThu\\n25|[08:30\\n13:50\\n16...|\n",
      "|CGV Hung Vuong Plaza|THE CONJURING: LA...|09\\nThu\\n25|[08:00\\n13:50\\n19...|\n",
      "|CGV Hung Vuong Plaza|BTS 2016 LIVE THE...|09\\nThu\\n25|      [14:10\\n18:00]|\n",
      "|CGV Hung Vuong Plaza|DEMON SLAYER: INF...|09\\nThu\\n25|      [10:50\\n16:40]|\n",
      "|CGV Hung Vuong Plaza|   THE LONG WALK T18|09\\nThu\\n25|             [11:55]|\n",
      "|CGV Hung Vuong Plaza|        MUSLIHAT T18|09\\nThu\\n25|             [08:20]|\n",
      "|CGV Hung Vuong Plaza|GIANTS OF LA MANC...|09\\nThu\\n25|             [08:05]|\n",
      "|CGV Hung Vuong Plaza|PUI PUI MOLCAR TH...|09\\nThu\\n25|             [16:20]|\n",
      "|CGV Hung Vuong Plaza|THE UGLY STEPSIST...|09\\nThu\\n25|             [09:40]|\n",
      "|CGV Hung Vuong Plaza|          EXIT 8 T16|09\\nThu\\n25|             [20:10]|\n",
      "|CGV Hung Vuong Plaza|TỬ CHIẾN TRÊN KHÔ...|09\\nFri\\n26|[08:00\\n09:10\\n10...|\n",
      "|CGV Hung Vuong Plaza|CHAINSAW MAN - TH...|09\\nFri\\n26|      [09:50\\n14:50]|\n",
      "|CGV Hung Vuong Plaza|          MƯA ĐỎ T13|09\\nFri\\n26|[20:30, 12:30\\n15...|\n",
      "|CGV Hung Vuong Plaza|THE CONJURING: LA...|09\\nFri\\n26|[09:30\\n20:00\\n22...|\n",
      "|CGV Hung Vuong Plaza|BTS 2016 LIVE THE...|09\\nFri\\n26|      [10:30\\n18:20]|\n",
      "+--------------------+--------------------+-----------+--------------------+\n",
      "only showing top 20 rows\n"
     ]
    }
   ],
   "source": [
    "path = \"../data/cgv_movies.json\"\n",
    "df = spark.read.option(\"multiLine\", True).schema(schema_type).json(path)\n",
    "\n",
    "df.show()"
   ]
  },
  {
   "cell_type": "code",
   "execution_count": 113,
   "id": "1c13e679",
   "metadata": {},
   "outputs": [],
   "source": [
    "def clean_date(date_str):\n",
    "    date_list = re.findall(r'\\d+', date_str)\n",
    "    day, month = date_list[::-1]\n",
    "\n",
    "    return (day, month)\n",
    "\n",
    "clean_date_udf = udf(\n",
    "                clean_date,\n",
    "                StructType([\n",
    "                    StructField(\"day\", StringType(), True),\n",
    "                    StructField(\"month\", StringType(), True),\n",
    "]))\n",
    "\n",
    "\n",
    "\n",
    "def clean_time(times):\n",
    "    list_time = []\n",
    "    for time in times:\n",
    "        list_time.extend(time.split(\"\\n\"))\n",
    "    return list_time\n",
    "\n",
    "clean_time_udf = udf(\n",
    "    clean_time,\n",
    "    ArrayType(StringType())\n",
    ")\n"
   ]
  },
  {
   "cell_type": "code",
   "execution_count": null,
   "id": "c416bd8a",
   "metadata": {},
   "outputs": [
    {
     "name": "stdout",
     "output_type": "stream",
     "text": [
      "+--------------------+---------------------------------------------------------------------------------+---+-----+---------------------------------------------------------------------------------------------------------------------------------------------------------------------------------------------------------------------------------------+\n",
      "|theater             |name_movie                                                                       |day|month|times_clean                                                                                                                                                                                                                            |\n",
      "+--------------------+---------------------------------------------------------------------------------+---+-----+---------------------------------------------------------------------------------------------------------------------------------------------------------------------------------------------------------------------------------------+\n",
      "|CGV Hung Vuong Plaza|TỬ CHIẾN TRÊN KHÔNG T16                                                          |24 |09   |[19:20, 20:10, 20:40, 21:30, 21:50, 22:40, 23:00, 21:10, 23:30, 19:50, 22:20]                                                                                                                                                          |\n",
      "|CGV Hung Vuong Plaza|MƯA ĐỎ T13                                                                       |24 |09   |[20:20, 22:50]                                                                                                                                                                                                                         |\n",
      "|CGV Hung Vuong Plaza|THE CONJURING: LAST RITES T16                                                    |24 |09   |[19:40, 22:30, 21:20]                                                                                                                                                                                                                  |\n",
      "|CGV Hung Vuong Plaza|TỬ CHIẾN TRÊN KHÔNG T16                                                          |25 |09   |[08:10, 09:00, 09:20, 10:40, 11:30, 11:50, 13:10, 14:00, 14:20, 15:40, 16:30, 16:50, 18:10, 19:00, 19:20, 20:40, 21:30, 21:50, 22:10, 23:10, 08:40, 11:10, 13:40, 16:10, 18:40, 21:10, 23:30, 10:00, 12:30, 15:00, 17:30, 19:50, 22:30]|\n",
      "|CGV Hung Vuong Plaza|CHAINSAW MAN - THE MOVIE: REZE ARC T18                                           |25 |09   |[18:00]                                                                                                                                                                                                                                |\n",
      "|CGV Hung Vuong Plaza|MƯA ĐỎ T13                                                                       |25 |09   |[08:30, 13:50, 16:20, 18:50, 10:20, 12:50, 15:20, 20:00, 22:40]                                                                                                                                                                        |\n",
      "|CGV Hung Vuong Plaza|THE CONJURING: LAST RITES T16                                                    |25 |09   |[08:00, 13:50, 19:40, 22:20, 11:00, 21:20]                                                                                                                                                                                             |\n",
      "|CGV Hung Vuong Plaza|BTS 2016 LIVE THE MOST BEAUTIFUL MOMENT IN LIFE ON STAGE: EPILOGUE REMASTERED T13|25 |09   |[14:10, 18:00]                                                                                                                                                                                                                         |\n",
      "|CGV Hung Vuong Plaza|DEMON SLAYER: INFINITY CASTLE T16                                                |25 |09   |[10:50, 16:40]                                                                                                                                                                                                                         |\n",
      "|CGV Hung Vuong Plaza|THE LONG WALK T18                                                                |25 |09   |[11:55]                                                                                                                                                                                                                                |\n",
      "|CGV Hung Vuong Plaza|MUSLIHAT T18                                                                     |25 |09   |[08:20]                                                                                                                                                                                                                                |\n",
      "|CGV Hung Vuong Plaza|GIANTS OF LA MANCHA – THE MOVIE P                                                |25 |09   |[08:05]                                                                                                                                                                                                                                |\n",
      "|CGV Hung Vuong Plaza|PUI PUI MOLCAR THE MOVIE MOLMAX P                                                |25 |09   |[16:20]                                                                                                                                                                                                                                |\n",
      "|CGV Hung Vuong Plaza|THE UGLY STEPSISTER T18                                                          |25 |09   |[09:40]                                                                                                                                                                                                                                |\n",
      "|CGV Hung Vuong Plaza|EXIT 8 T16                                                                       |25 |09   |[20:10]                                                                                                                                                                                                                                |\n",
      "|CGV Hung Vuong Plaza|TỬ CHIẾN TRÊN KHÔNG T16                                                          |26 |09   |[08:00, 09:10, 10:10, 10:40, 11:40, 12:40, 13:10, 14:10, 15:10, 15:40, 16:40, 17:40, 18:10, 19:10, 20:10, 20:40, 21:40, 22:40, 23:10, 12:10, 17:10, 19:40, 22:10, 08:40, 11:10, 13:40, 16:10, 18:40, 21:10, 23:40, 09:40, 12:10, 14:40]|\n",
      "|CGV Hung Vuong Plaza|CHAINSAW MAN - THE MOVIE: REZE ARC T18                                           |26 |09   |[09:50, 14:50]                                                                                                                                                                                                                         |\n",
      "|CGV Hung Vuong Plaza|MƯA ĐỎ T13                                                                       |26 |09   |[20:30, 12:30, 15:00, 17:30, 11:30, 14:00, 16:30, 19:00, 21:30]                                                                                                                                                                        |\n",
      "|CGV Hung Vuong Plaza|THE CONJURING: LAST RITES T16                                                    |26 |09   |[09:30, 20:00, 22:50]                                                                                                                                                                                                                  |\n",
      "|CGV Hung Vuong Plaza|BTS 2016 LIVE THE MOST BEAUTIFUL MOMENT IN LIFE ON STAGE: EPILOGUE REMASTERED T13|26 |09   |[10:30, 18:20]                                                                                                                                                                                                                         |\n",
      "+--------------------+---------------------------------------------------------------------------------+---+-----+---------------------------------------------------------------------------------------------------------------------------------------------------------------------------------------------------------------------------------------+\n",
      "only showing top 20 rows\n"
     ]
    }
   ],
   "source": [
    "df_final = (\n",
    "    df.withColumn(\"date_new\", clean_date_udf(col(\"date\")))\n",
    "      .withColumn(\"times_clean\", clean_time_udf(col(\"times\")))\n",
    "      .select(\n",
    "          \"theater\",\n",
    "          \"name_movie\",\n",
    "          col(\"date_new.day\").alias(\"day\"),\n",
    "          col(\"date_new.month\").alias(\"month\"),\n",
    "          \"times_clean\"\n",
    "      )\n",
    ")\n"
   ]
  },
  {
   "cell_type": "code",
   "execution_count": 115,
   "id": "9f7c2e5e",
   "metadata": {},
   "outputs": [
    {
     "name": "stdout",
     "output_type": "stream",
     "text": [
      "+--------------------+-----------------------------+---+-----+-----+\n",
      "|theater             |name_movie                   |day|month|time |\n",
      "+--------------------+-----------------------------+---+-----+-----+\n",
      "|CGV Hung Vuong Plaza|TỬ CHIẾN TRÊN KHÔNG T16      |24 |09   |19:20|\n",
      "|CGV Hung Vuong Plaza|TỬ CHIẾN TRÊN KHÔNG T16      |24 |09   |20:10|\n",
      "|CGV Hung Vuong Plaza|TỬ CHIẾN TRÊN KHÔNG T16      |24 |09   |20:40|\n",
      "|CGV Hung Vuong Plaza|TỬ CHIẾN TRÊN KHÔNG T16      |24 |09   |21:30|\n",
      "|CGV Hung Vuong Plaza|TỬ CHIẾN TRÊN KHÔNG T16      |24 |09   |21:50|\n",
      "|CGV Hung Vuong Plaza|TỬ CHIẾN TRÊN KHÔNG T16      |24 |09   |22:40|\n",
      "|CGV Hung Vuong Plaza|TỬ CHIẾN TRÊN KHÔNG T16      |24 |09   |23:00|\n",
      "|CGV Hung Vuong Plaza|TỬ CHIẾN TRÊN KHÔNG T16      |24 |09   |21:10|\n",
      "|CGV Hung Vuong Plaza|TỬ CHIẾN TRÊN KHÔNG T16      |24 |09   |23:30|\n",
      "|CGV Hung Vuong Plaza|TỬ CHIẾN TRÊN KHÔNG T16      |24 |09   |19:50|\n",
      "|CGV Hung Vuong Plaza|TỬ CHIẾN TRÊN KHÔNG T16      |24 |09   |22:20|\n",
      "|CGV Hung Vuong Plaza|MƯA ĐỎ T13                   |24 |09   |20:20|\n",
      "|CGV Hung Vuong Plaza|MƯA ĐỎ T13                   |24 |09   |22:50|\n",
      "|CGV Hung Vuong Plaza|THE CONJURING: LAST RITES T16|24 |09   |19:40|\n",
      "|CGV Hung Vuong Plaza|THE CONJURING: LAST RITES T16|24 |09   |22:30|\n",
      "|CGV Hung Vuong Plaza|THE CONJURING: LAST RITES T16|24 |09   |21:20|\n",
      "|CGV Hung Vuong Plaza|TỬ CHIẾN TRÊN KHÔNG T16      |25 |09   |08:10|\n",
      "|CGV Hung Vuong Plaza|TỬ CHIẾN TRÊN KHÔNG T16      |25 |09   |09:00|\n",
      "|CGV Hung Vuong Plaza|TỬ CHIẾN TRÊN KHÔNG T16      |25 |09   |09:20|\n",
      "|CGV Hung Vuong Plaza|TỬ CHIẾN TRÊN KHÔNG T16      |25 |09   |10:40|\n",
      "+--------------------+-----------------------------+---+-----+-----+\n",
      "only showing top 20 rows\n"
     ]
    }
   ],
   "source": [
    "\n",
    "df_exploded = df_final.withColumn(\"time\", explode(col(\"times_clean\"))) \\\n",
    "                      .drop(\"times_clean\")  # bỏ cột cũ nếu muốn\n",
    "\n",
    "df_exploded.show(truncate=False)"
   ]
  }
 ],
 "metadata": {
  "kernelspec": {
   "display_name": "env_spark",
   "language": "python",
   "name": "python3"
  },
  "language_info": {
   "codemirror_mode": {
    "name": "ipython",
    "version": 3
   },
   "file_extension": ".py",
   "mimetype": "text/x-python",
   "name": "python",
   "nbconvert_exporter": "python",
   "pygments_lexer": "ipython3",
   "version": "3.12.11"
  }
 },
 "nbformat": 4,
 "nbformat_minor": 5
}
